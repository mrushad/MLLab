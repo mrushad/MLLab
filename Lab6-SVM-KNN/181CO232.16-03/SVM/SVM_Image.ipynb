{
  "nbformat": 4,
  "nbformat_minor": 0,
  "metadata": {
    "colab": {
      "name": "SVM_Image.ipynb",
      "provenance": []
    },
    "kernelspec": {
      "name": "python3",
      "display_name": "Python 3"
    }
  },
  "cells": [
    {
      "cell_type": "code",
      "metadata": {
        "id": "UNRjTDcq2_oe"
      },
      "source": [
        "import numpy as np\r\n",
        "import pandas as pd\r\n",
        "\r\n",
        "from subprocess import check_output"
      ],
      "execution_count": 16,
      "outputs": []
    },
    {
      "cell_type": "code",
      "metadata": {
        "id": "Ti13NDST3LaK"
      },
      "source": [
        "import matplotlib.pyplot as plt\r\n",
        "import numpy as np\r\n",
        "%matplotlib inline\r\n",
        "\r\n",
        "from sklearn import datasets, svm, metrics"
      ],
      "execution_count": 17,
      "outputs": []
    },
    {
      "cell_type": "code",
      "metadata": {
        "colab": {
          "base_uri": "https://localhost:8080/"
        },
        "id": "2vYXMjCi3Lwl",
        "outputId": "a9b7bf08-9106-41e7-cf79-c4223088b9a3"
      },
      "source": [
        "# digits dataset\r\n",
        "digits = datasets.load_digits()\r\n",
        "print('Digits dataset keys \\n{}'.format(digits.keys()))"
      ],
      "execution_count": 19,
      "outputs": [
        {
          "output_type": "stream",
          "text": [
            "Digits dataset keys \n",
            "dict_keys(['data', 'target', 'target_names', 'images', 'DESCR'])\n"
          ],
          "name": "stdout"
        }
      ]
    },
    {
      "cell_type": "code",
      "metadata": {
        "colab": {
          "base_uri": "https://localhost:8080/"
        },
        "id": "yX88E4ze3OeS",
        "outputId": "55d9c84f-d50e-44b6-903c-7391b3caeb1b"
      },
      "source": [
        "print('dataset target name: \\n{}'.format(digits.target_names))\r\n",
        "print('shape of datset: {} \\nand target: {}'.format(digits.data.shape, digits.target.shape))\r\n",
        "print('shape of the images: {}'.format(digits.images.shape))"
      ],
      "execution_count": 20,
      "outputs": [
        {
          "output_type": "stream",
          "text": [
            "dataset target name: \n",
            "[0 1 2 3 4 5 6 7 8 9]\n",
            "shape of datset: (1797, 64) \n",
            "and target: (1797,)\n",
            "shape of the images: (1797, 8, 8)\n"
          ],
          "name": "stdout"
        }
      ]
    },
    {
      "cell_type": "code",
      "metadata": {
        "colab": {
          "base_uri": "https://localhost:8080/",
          "height": 120
        },
        "id": "5YLw79us3WPZ",
        "outputId": "93e74ee0-4cd0-459e-8be3-2ee33978b85d"
      },
      "source": [
        "#plot the data, which is just the images flattened into a 1-d array\r\n",
        "for i in range(0,4):\r\n",
        "    plt.subplot(2, 4,i + 1)\r\n",
        "    plt.axis('off')\r\n",
        "    imside = int(np.sqrt(digits.data[i].shape[0]))\r\n",
        "    im1 = np.reshape(digits.data[i],(imside,imside))\r\n",
        "    plt.imshow(im1, cmap=plt.cm.gray_r, interpolation='nearest')\r\n",
        "    plt.title('Training: {}'.format(digits.target[i]))\r\n",
        "plt.show()"
      ],
      "execution_count": 21,
      "outputs": [
        {
          "output_type": "display_data",
          "data": {
            "image/png": "[encoded data removed]",
            "text/plain": [
              "<Figure size 432x288 with 4 Axes>"
            ]
          },
          "metadata": {
            "tags": [],
            "needs_background": "light"
          }
        }
      ]
    },
    {
      "cell_type": "code",
      "metadata": {
        "id": "3ZIWky5Z3ewf"
      },
      "source": [
        "#First we flatten the images\r\n",
        "n_samples = len(digits.images)\r\n",
        "data_images = digits.images.reshape((n_samples, -1))"
      ],
      "execution_count": 22,
      "outputs": []
    },
    {
      "cell_type": "code",
      "metadata": {
        "colab": {
          "base_uri": "https://localhost:8080/"
        },
        "id": "nxgFIoWS3hGP",
        "outputId": "f82a14a7-bc9e-450c-c0c6-4849f8aaf5b8"
      },
      "source": [
        "from sklearn.model_selection import train_test_split\r\n",
        "X_train, X_test, y_train, y_test = train_test_split(data_images,digits.target, test_size=0.3)\r\n",
        "print('Training data and target sizes: \\n{}, {}'.format(X_train.shape,y_train.shape))\r\n",
        "print('Test data and target sizes: \\n{}, {}'.format(X_test.shape,y_test.shape))"
      ],
      "execution_count": 24,
      "outputs": [
        {
          "output_type": "stream",
          "text": [
            "Training data and target sizes: \n",
            "(1257, 64), (1257,)\n",
            "Test data and target sizes: \n",
            "(540, 64), (540,)\n"
          ],
          "name": "stdout"
        }
      ]
    },
    {
      "cell_type": "code",
      "metadata": {
        "colab": {
          "base_uri": "https://localhost:8080/"
        },
        "id": "y3yAy6jA3ikv",
        "outputId": "d0181639-0b4b-4dc1-bbf4-a0e86e03d071"
      },
      "source": [
        "classifier = svm.SVC(gamma=0.001, kernel='linear')\r\n",
        "classifier.fit(X_train,y_train)"
      ],
      "execution_count": 33,
      "outputs": [
        {
          "output_type": "execute_result",
          "data": {
            "text/plain": [
              "SVC(C=1.0, break_ties=False, cache_size=200, class_weight=None, coef0=0.0,\n",
              "    decision_function_shape='ovr', degree=3, gamma=0.001, kernel='linear',\n",
              "    max_iter=-1, probability=False, random_state=None, shrinking=True,\n",
              "    tol=0.001, verbose=False)"
            ]
          },
          "metadata": {
            "tags": []
          },
          "execution_count": 33
        }
      ]
    },
    {
      "cell_type": "code",
      "metadata": {
        "id": "9RAQdUuL3ntI"
      },
      "source": [
        "# now to Now predict the value of the digit on the test data\r\n",
        "y_pred = classifier.predict(X_test)"
      ],
      "execution_count": 34,
      "outputs": []
    },
    {
      "cell_type": "code",
      "metadata": {
        "colab": {
          "base_uri": "https://localhost:8080/"
        },
        "id": "MKovcdUdyjEs",
        "outputId": "16e2b416-7402-42d3-e888-e727ff27fb58"
      },
      "source": [
        "print(\"Accuracy = \", metrics.accuracy_score(y_test, y_pred))"
      ],
      "execution_count": 35,
      "outputs": [
        {
          "output_type": "stream",
          "text": [
            "Accuracy =  0.9777777777777777\n"
          ],
          "name": "stdout"
        }
      ]
    },
    {
      "cell_type": "code",
      "metadata": {
        "colab": {
          "base_uri": "https://localhost:8080/"
        },
        "id": "dEDFOBdZ3p8n",
        "outputId": "cd477fac-3e06-4abe-c00c-875b658cd40c"
      },
      "source": [
        "print(\"Classification report for classifier %s:\\n%s\\n\"\r\n",
        "      % (classifier, metrics.classification_report(y_test, y_pred)))"
      ],
      "execution_count": 36,
      "outputs": [
        {
          "output_type": "stream",
          "text": [
            "Classification report for classifier SVC(C=1.0, break_ties=False, cache_size=200, class_weight=None, coef0=0.0,\n",
            "    decision_function_shape='ovr', degree=3, gamma=0.001, kernel='linear',\n",
            "    max_iter=-1, probability=False, random_state=None, shrinking=True,\n",
            "    tol=0.001, verbose=False):\n",
            "              precision    recall  f1-score   support\n",
            "\n",
            "           0       1.00      1.00      1.00        50\n",
            "           1       0.93      0.98      0.96        57\n",
            "           2       1.00      1.00      1.00        48\n",
            "           3       1.00      0.95      0.98        64\n",
            "           4       1.00      1.00      1.00        60\n",
            "           5       0.98      0.98      0.98        54\n",
            "           6       1.00      0.98      0.99        58\n",
            "           7       0.98      0.98      0.98        57\n",
            "           8       0.95      0.90      0.93        42\n",
            "           9       0.92      0.98      0.95        50\n",
            "\n",
            "    accuracy                           0.98       540\n",
            "   macro avg       0.98      0.98      0.98       540\n",
            "weighted avg       0.98      0.98      0.98       540\n",
            "\n",
            "\n"
          ],
          "name": "stdout"
        }
      ]
    },
    {
      "cell_type": "code",
      "metadata": {
        "colab": {
          "base_uri": "https://localhost:8080/"
        },
        "id": "m8ICaC6s3tfv",
        "outputId": "7464c77a-2f2a-4fb5-b86b-71e5601db24c"
      },
      "source": [
        "print(\"Confusion matrix:\\n%s\" % metrics.confusion_matrix(y_test, y_pred))"
      ],
      "execution_count": 38,
      "outputs": [
        {
          "output_type": "stream",
          "text": [
            "Confusion matrix:\n",
            "[[50  0  0  0  0  0  0  0  0  0]\n",
            " [ 0 56  0  0  0  0  0  0  0  1]\n",
            " [ 0  0 48  0  0  0  0  0  0  0]\n",
            " [ 0  0  0 61  0  0  0  0  2  1]\n",
            " [ 0  0  0  0 60  0  0  0  0  0]\n",
            " [ 0  0  0  0  0 53  0  0  0  1]\n",
            " [ 0  1  0  0  0  0 57  0  0  0]\n",
            " [ 0  0  0  0  0  1  0 56  0  0]\n",
            " [ 0  3  0  0  0  0  0  0 38  1]\n",
            " [ 0  0  0  0  0  0  0  1  0 49]]\n"
          ],
          "name": "stdout"
        }
      ]
    }
  ]
}